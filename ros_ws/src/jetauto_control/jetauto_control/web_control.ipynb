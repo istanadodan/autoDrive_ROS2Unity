{
 "cells": [
  {
   "cell_type": "code",
   "execution_count": 9,
   "metadata": {},
   "outputs": [],
   "source": [
    "import json\n",
    "import requests\n",
    "import ipywidgets as widgets"
   ]
  },
  {
   "cell_type": "code",
   "execution_count": 10,
   "metadata": {},
   "outputs": [],
   "source": [
    "host = '192.168.64.2'"
   ]
  },
  {
   "cell_type": "code",
   "execution_count": 11,
   "metadata": {},
   "outputs": [],
   "source": [
    "def create_float_slider(description):\n",
    "    return widgets.FloatSlider(\n",
    "        value=0,\n",
    "        min=-1,\n",
    "        max=1,\n",
    "        step=0.1,\n",
    "        description=description,\n",
    "        disabled=False,\n",
    "        continuous_update=False,\n",
    "        orientation='horizontal',\n",
    "        readout=True,\n",
    "        readout_format='.1f',\n",
    "    )"
   ]
  },
  {
   "cell_type": "code",
   "execution_count": 12,
   "metadata": {},
   "outputs": [],
   "source": [
    "def control_car(linear, angular):\n",
    "    data = {\n",
    "        'linear': linear,\n",
    "        'angular': angular\n",
    "    }\n",
    "    headers = {\"Content-Type\": \"application/json\"}\n",
    "    return requests.put(f'http://{host}:5000/jetauto_car',\n",
    "                        headers=headers,\n",
    "                        data=json.dumps(data)).json()"
   ]
  },
  {
   "cell_type": "code",
   "execution_count": 13,
   "metadata": {},
   "outputs": [],
   "source": [
    "def control_arm(joint1, joint2, joint3, joint4, r_joint):\n",
    "    data = {\n",
    "        'joint1': joint1,\n",
    "        'joint2': joint2,\n",
    "        'joint3': joint3,\n",
    "        'joint4': joint4,\n",
    "        'r_joint': r_joint,\n",
    "    }\n",
    "    headers = {\"Content-Type\": \"application/json\"}\n",
    "    return requests.put(f'http://{host}:5000/jetauto_arm',\n",
    "                        headers=headers,\n",
    "                        data=json.dumps(data)).json()"
   ]
  },
  {
   "cell_type": "code",
   "execution_count": 14,
   "metadata": {},
   "outputs": [],
   "source": [
    "linear = create_float_slider('Linear:')\n",
    "angular = create_float_slider('Angular:')\n",
    "\n",
    "def on_car_value_change(_):\n",
    "    control_car(linear.value, angular.value)\n",
    "\n",
    "linear.observe(on_car_value_change, names='value')\n",
    "angular.observe(on_car_value_change, names='value')"
   ]
  },
  {
   "cell_type": "code",
   "execution_count": 15,
   "metadata": {},
   "outputs": [],
   "source": [
    "joint1 = create_float_slider('Joint1:')\n",
    "joint2 = create_float_slider('Joint2:')\n",
    "joint3 = create_float_slider('Joint3:')\n",
    "joint4 = create_float_slider('Joint4:')\n",
    "r_joint = create_float_slider('RJoint:')\n",
    "\n",
    "def on_arm_value_change(_):\n",
    "    control_arm(joint1.value,\n",
    "                joint2.value,\n",
    "                joint3.value,\n",
    "                joint4.value,\n",
    "                r_joint.value)\n",
    "\n",
    "joint1.observe(on_arm_value_change, names='value')\n",
    "joint2.observe(on_arm_value_change, names='value')\n",
    "joint3.observe(on_arm_value_change, names='value')\n",
    "joint4.observe(on_arm_value_change, names='value')\n",
    "r_joint.observe(on_arm_value_change, names='value')"
   ]
  },
  {
   "cell_type": "code",
   "execution_count": 16,
   "metadata": {},
   "outputs": [
    {
     "data": {
      "application/vnd.jupyter.widget-view+json": {
       "model_id": "0088e364f542435c924c97392df56c86",
       "version_major": 2,
       "version_minor": 0
      },
      "text/plain": [
       "FloatSlider(value=0.0, continuous_update=False, description='Linear:', max=1.0, min=-1.0, readout_format='.1f'…"
      ]
     },
     "metadata": {},
     "output_type": "display_data"
    },
    {
     "data": {
      "application/vnd.jupyter.widget-view+json": {
       "model_id": "61b45b18b32d41a6b48508d962734f72",
       "version_major": 2,
       "version_minor": 0
      },
      "text/plain": [
       "FloatSlider(value=0.0, continuous_update=False, description='Angular:', max=1.0, min=-1.0, readout_format='.1f…"
      ]
     },
     "metadata": {},
     "output_type": "display_data"
    },
    {
     "data": {
      "application/vnd.jupyter.widget-view+json": {
       "model_id": "20c706806d7d4b3a8f2abac2ad6b2900",
       "version_major": 2,
       "version_minor": 0
      },
      "text/plain": [
       "FloatSlider(value=0.0, continuous_update=False, description='Joint1:', max=1.0, min=-1.0, readout_format='.1f'…"
      ]
     },
     "metadata": {},
     "output_type": "display_data"
    },
    {
     "data": {
      "application/vnd.jupyter.widget-view+json": {
       "model_id": "3270a41a6413413d894f4d18b14a7f0b",
       "version_major": 2,
       "version_minor": 0
      },
      "text/plain": [
       "FloatSlider(value=0.0, continuous_update=False, description='Joint2:', max=1.0, min=-1.0, readout_format='.1f'…"
      ]
     },
     "metadata": {},
     "output_type": "display_data"
    },
    {
     "data": {
      "application/vnd.jupyter.widget-view+json": {
       "model_id": "a13735ae4f0b4d099828357d53f52452",
       "version_major": 2,
       "version_minor": 0
      },
      "text/plain": [
       "FloatSlider(value=0.0, continuous_update=False, description='Joint3:', max=1.0, min=-1.0, readout_format='.1f'…"
      ]
     },
     "metadata": {},
     "output_type": "display_data"
    },
    {
     "data": {
      "application/vnd.jupyter.widget-view+json": {
       "model_id": "0c79dcf625fe4a1aafa4285485ad444e",
       "version_major": 2,
       "version_minor": 0
      },
      "text/plain": [
       "FloatSlider(value=0.0, continuous_update=False, description='Joint4:', max=1.0, min=-1.0, readout_format='.1f'…"
      ]
     },
     "metadata": {},
     "output_type": "display_data"
    },
    {
     "data": {
      "application/vnd.jupyter.widget-view+json": {
       "model_id": "d6f387ab352a454e85a4bb9bcdf25ef0",
       "version_major": 2,
       "version_minor": 0
      },
      "text/plain": [
       "FloatSlider(value=0.0, continuous_update=False, description='RJoint:', max=1.0, min=-1.0, readout_format='.1f'…"
      ]
     },
     "metadata": {},
     "output_type": "display_data"
    }
   ],
   "source": [
    "display(linear)\n",
    "display(angular)\n",
    "\n",
    "display(joint1)\n",
    "display(joint2)\n",
    "display(joint3)\n",
    "display(joint4)\n",
    "display(r_joint)"
   ]
  },
  {
   "cell_type": "code",
   "execution_count": null,
   "metadata": {},
   "outputs": [],
   "source": []
  }
 ],
 "metadata": {
  "kernelspec": {
   "display_name": "Python 3",
   "language": "python",
   "name": "python3"
  },
  "language_info": {
   "codemirror_mode": {
    "name": "ipython",
    "version": 3
   },
   "file_extension": ".py",
   "mimetype": "text/x-python",
   "name": "python",
   "nbconvert_exporter": "python",
   "pygments_lexer": "ipython3",
   "version": "3.9.18"
  }
 },
 "nbformat": 4,
 "nbformat_minor": 2
}
