{
 "cells": [
  {
   "cell_type": "code",
   "execution_count": 1,
   "metadata": {},
   "outputs": [],
   "source": [
    "import json\n",
    "import requests\n",
    "import ipywidgets as widgets"
   ]
  },
  {
   "cell_type": "code",
   "execution_count": 2,
   "metadata": {},
   "outputs": [],
   "source": [
    "def create_float_slider(description):\n",
    "    return widgets.FloatSlider(\n",
    "        value=0,\n",
    "        min=-1,\n",
    "        max=1,\n",
    "        step=0.1,\n",
    "        description=description,\n",
    "        disabled=False,\n",
    "        continuous_update=False,\n",
    "        orientation='horizontal',\n",
    "        readout=True,\n",
    "        readout_format='.1f',\n",
    "    )"
   ]
  },
  {
   "cell_type": "code",
   "execution_count": 3,
   "metadata": {},
   "outputs": [],
   "source": [
    "def control_car(linear, angular):\n",
    "    data = {\n",
    "        'linear': linear,\n",
    "        'angular': angular\n",
    "    }\n",
    "    headers = {\"Content-Type\": \"application/json\"}\n",
    "    return requests.put('http://127.0.0.1:5000/jetauto_car',\n",
    "                        headers=headers,\n",
    "                        data=json.dumps(data)).json()"
   ]
  },
  {
   "cell_type": "code",
   "execution_count": 4,
   "metadata": {},
   "outputs": [],
   "source": [
    "def control_arm(joint1, joint2, joint3, joint4, r_joint):\n",
    "    data = {\n",
    "        'joint1': joint1,\n",
    "        'joint2': joint2,\n",
    "        'joint3': joint3,\n",
    "        'joint4': joint4,\n",
    "        'r_joint': r_joint,\n",
    "    }\n",
    "    headers = {\"Content-Type\": \"application/json\"}\n",
    "    return requests.put('http://127.0.0.1:5000/jetauto_arm',\n",
    "                        headers=headers,\n",
    "                        data=json.dumps(data)).json()"
   ]
  },
  {
   "cell_type": "code",
   "execution_count": 5,
   "metadata": {},
   "outputs": [],
   "source": [
    "linear = create_float_slider('Linear:')\n",
    "angular = create_float_slider('Angular:')\n",
    "\n",
    "def on_car_value_change(_):\n",
    "    control_car(linear.value, angular.value)\n",
    "\n",
    "linear.observe(on_car_value_change, names='value')\n",
    "angular.observe(on_car_value_change, names='value')"
   ]
  },
  {
   "cell_type": "code",
   "execution_count": 6,
   "metadata": {},
   "outputs": [],
   "source": [
    "joint1 = create_float_slider('Joint1:')\n",
    "joint2 = create_float_slider('Joint2:')\n",
    "joint3 = create_float_slider('Joint3:')\n",
    "joint4 = create_float_slider('Joint4:')\n",
    "r_joint = create_float_slider('RJoint:')\n",
    "\n",
    "def on_arm_value_change(_):\n",
    "    control_arm(joint1.value,\n",
    "                joint2.value,\n",
    "                joint3.value,\n",
    "                joint4.value,\n",
    "                r_joint.value)\n",
    "\n",
    "joint1.observe(on_arm_value_change, names='value')\n",
    "joint2.observe(on_arm_value_change, names='value')\n",
    "joint3.observe(on_arm_value_change, names='value')\n",
    "joint4.observe(on_arm_value_change, names='value')\n",
    "r_joint.observe(on_arm_value_change, names='value')"
   ]
  },
  {
   "cell_type": "code",
   "execution_count": 7,
   "metadata": {},
   "outputs": [
    {
     "data": {
      "application/vnd.jupyter.widget-view+json": {
       "model_id": "ae4bc149190d45748b36c1f52e320d8e",
       "version_major": 2,
       "version_minor": 0
      },
      "text/plain": [
       "FloatSlider(value=0.0, continuous_update=False, description='Linear:', max=1.0, min=-1.0, readout_format='.1f'…"
      ]
     },
     "metadata": {},
     "output_type": "display_data"
    },
    {
     "data": {
      "application/vnd.jupyter.widget-view+json": {
       "model_id": "83e01a74b77e4889ae2cbb7fb60f7ad5",
       "version_major": 2,
       "version_minor": 0
      },
      "text/plain": [
       "FloatSlider(value=0.0, continuous_update=False, description='Angular:', max=1.0, min=-1.0, readout_format='.1f…"
      ]
     },
     "metadata": {},
     "output_type": "display_data"
    },
    {
     "data": {
      "application/vnd.jupyter.widget-view+json": {
       "model_id": "0afd8492a48944059f3f16e851dac5dc",
       "version_major": 2,
       "version_minor": 0
      },
      "text/plain": [
       "FloatSlider(value=0.0, continuous_update=False, description='Joint1:', max=1.0, min=-1.0, readout_format='.1f'…"
      ]
     },
     "metadata": {},
     "output_type": "display_data"
    },
    {
     "data": {
      "application/vnd.jupyter.widget-view+json": {
       "model_id": "f706ccfd7c8144c3afc7b1abf9ed2327",
       "version_major": 2,
       "version_minor": 0
      },
      "text/plain": [
       "FloatSlider(value=0.0, continuous_update=False, description='Joint2:', max=1.0, min=-1.0, readout_format='.1f'…"
      ]
     },
     "metadata": {},
     "output_type": "display_data"
    },
    {
     "data": {
      "application/vnd.jupyter.widget-view+json": {
       "model_id": "bc1fcfc2f7a34831812892af6b30c230",
       "version_major": 2,
       "version_minor": 0
      },
      "text/plain": [
       "FloatSlider(value=0.0, continuous_update=False, description='Joint3:', max=1.0, min=-1.0, readout_format='.1f'…"
      ]
     },
     "metadata": {},
     "output_type": "display_data"
    },
    {
     "data": {
      "application/vnd.jupyter.widget-view+json": {
       "model_id": "484f547a4a6e4d2a8d9182b94863bf37",
       "version_major": 2,
       "version_minor": 0
      },
      "text/plain": [
       "FloatSlider(value=0.0, continuous_update=False, description='Joint4:', max=1.0, min=-1.0, readout_format='.1f'…"
      ]
     },
     "metadata": {},
     "output_type": "display_data"
    },
    {
     "data": {
      "application/vnd.jupyter.widget-view+json": {
       "model_id": "6f3c87ac35d744b5b28700e7a8d4eada",
       "version_major": 2,
       "version_minor": 0
      },
      "text/plain": [
       "FloatSlider(value=0.0, continuous_update=False, description='RJoint:', max=1.0, min=-1.0, readout_format='.1f'…"
      ]
     },
     "metadata": {},
     "output_type": "display_data"
    }
   ],
   "source": [
    "display(linear)\n",
    "display(angular)\n",
    "\n",
    "display(joint1)\n",
    "display(joint2)\n",
    "display(joint3)\n",
    "display(joint4)\n",
    "display(r_joint)"
   ]
  },
  {
   "cell_type": "code",
   "execution_count": null,
   "metadata": {},
   "outputs": [],
   "source": []
  }
 ],
 "metadata": {
  "kernelspec": {
   "display_name": "Python 3",
   "language": "python",
   "name": "python3"
  },
  "language_info": {
   "codemirror_mode": {
    "name": "ipython",
    "version": 3
   },
   "file_extension": ".py",
   "mimetype": "text/x-python",
   "name": "python",
   "nbconvert_exporter": "python",
   "pygments_lexer": "ipython3",
   "version": "3.10.12"
  }
 },
 "nbformat": 4,
 "nbformat_minor": 2
}
