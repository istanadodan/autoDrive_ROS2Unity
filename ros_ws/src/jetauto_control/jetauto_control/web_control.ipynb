{
 "cells": [
  {
   "cell_type": "code",
   "execution_count": null,
   "metadata": {},
   "outputs": [],
   "source": [
    "import json\n",
    "import requests\n",
    "import ipywidgets as widgets"
   ]
  },
  {
   "cell_type": "code",
   "execution_count": null,
   "metadata": {},
   "outputs": [],
   "source": [
    "def create_float_slider(description):\n",
    "    return widgets.FloatSlider(\n",
    "        value=0,\n",
    "        min=-1,\n",
    "        max=1,\n",
    "        step=0.1,\n",
    "        description=description,\n",
    "        disabled=False,\n",
    "        continuous_update=False,\n",
    "        orientation='horizontal',\n",
    "        readout=True,\n",
    "        readout_format='.1f',\n",
    "    )"
   ]
  },
  {
   "cell_type": "code",
   "execution_count": null,
   "metadata": {},
   "outputs": [],
   "source": [
    "def control_car(linear, angular):\n",
    "    data = {\n",
    "        'linear': linear,\n",
    "        'angular': angular\n",
    "    }\n",
    "    headers = {\"Content-Type\": \"application/json\"}\n",
    "    return requests.put('http://127.0.0.1:5000/jetauto_car',\n",
    "                        headers=headers,\n",
    "                        data=json.dumps(data)).json()"
   ]
  },
  {
   "cell_type": "code",
   "execution_count": null,
   "metadata": {},
   "outputs": [],
   "source": [
    "def control_arm(joint1, joint2, joint3, joint4, r_joint):\n",
    "    data = {\n",
    "        'joint1': joint1,\n",
    "        'joint2': joint2,\n",
    "        'joint3': joint3,\n",
    "        'joint4': joint4,\n",
    "        'r_joint': r_joint,\n",
    "    }\n",
    "    headers = {\"Content-Type\": \"application/json\"}\n",
    "    return requests.put('http://127.0.0.1:5000/jetauto_arm',\n",
    "                        headers=headers,\n",
    "                        data=json.dumps(data)).json()"
   ]
  },
  {
   "cell_type": "code",
   "execution_count": null,
   "metadata": {},
   "outputs": [],
   "source": [
    "linear = create_float_slider('Linear:')\n",
    "angular = create_float_slider('Angular:')\n",
    "\n",
    "def on_car_value_change(_):\n",
    "    control_car(linear.value, angular.value)\n",
    "\n",
    "linear.observe(on_car_value_change, names='value')\n",
    "angular.observe(on_car_value_change, names='value')"
   ]
  },
  {
   "cell_type": "code",
   "execution_count": null,
   "metadata": {},
   "outputs": [],
   "source": [
    "joint1 = create_float_slider('Joint1:')\n",
    "joint2 = create_float_slider('Joint2:')\n",
    "joint3 = create_float_slider('Joint3:')\n",
    "joint4 = create_float_slider('Joint4:')\n",
    "r_joint = create_float_slider('RJoint:')\n",
    "\n",
    "def on_arm_value_change(_):\n",
    "    control_arm(joint1.value,\n",
    "                joint2.value,\n",
    "                joint3.value,\n",
    "                joint4.value,\n",
    "                r_joint.value)\n",
    "\n",
    "joint1.observe(on_arm_value_change, names='value')\n",
    "joint2.observe(on_arm_value_change, names='value')\n",
    "joint3.observe(on_arm_value_change, names='value')\n",
    "joint4.observe(on_arm_value_change, names='value')\n",
    "r_joint.observe(on_arm_value_change, names='value')"
   ]
  },
  {
   "cell_type": "code",
   "execution_count": null,
   "metadata": {},
   "outputs": [],
   "source": [
    "display(linear)\n",
    "display(angular)\n",
    "\n",
    "display(joint1)\n",
    "display(joint2)\n",
    "display(joint3)\n",
    "display(joint4)\n",
    "display(r_joint)"
   ]
  },
  {
   "cell_type": "code",
   "execution_count": null,
   "metadata": {},
   "outputs": [],
   "source": []
  }
 ],
 "metadata": {
  "kernelspec": {
   "display_name": "Python 3",
   "language": "python",
   "name": "python3"
  },
  "language_info": {
   "codemirror_mode": {
    "name": "ipython",
    "version": 3
   },
   "file_extension": ".py",
   "mimetype": "text/x-python",
   "name": "python",
   "nbconvert_exporter": "python",
   "pygments_lexer": "ipython3",
   "version": "3.9.6"
  }
 },
 "nbformat": 4,
 "nbformat_minor": 2
}
